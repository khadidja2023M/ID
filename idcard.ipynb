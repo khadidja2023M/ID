{
 "cells": [
  {
   "cell_type": "code",
   "execution_count": 1,
   "id": "818f24ca",
   "metadata": {},
   "outputs": [
    {
     "name": "stdout",
     "output_type": "stream",
     "text": [
      "Defaulting to user installation because normal site-packages is not writeable\n",
      "Requirement already satisfied: opencv-python in c:\\users\\khadi\\appdata\\roaming\\python\\python39\\site-packages (4.8.0.74)\n",
      "Requirement already satisfied: numpy>=1.19.3 in c:\\users\\khadi\\appdata\\roaming\\python\\python39\\site-packages (from opencv-python) (1.23.5)\n",
      "Defaulting to user installation because normal site-packages is not writeable\n",
      "Requirement already satisfied: pytesseract in c:\\users\\khadi\\appdata\\roaming\\python\\python39\\site-packages (0.3.10)\n",
      "Requirement already satisfied: Pillow>=8.0.0 in c:\\programdata\\anaconda3\\lib\\site-packages (from pytesseract) (9.2.0)\n",
      "Requirement already satisfied: packaging>=21.3 in c:\\programdata\\anaconda3\\lib\\site-packages (from pytesseract) (21.3)\n",
      "Requirement already satisfied: pyparsing!=3.0.5,>=2.0.2 in c:\\programdata\\anaconda3\\lib\\site-packages (from packaging>=21.3->pytesseract) (3.0.9)\n",
      "Defaulting to user installation because normal site-packages is not writeable\n",
      "Requirement already satisfied: pandas in c:\\users\\khadi\\appdata\\roaming\\python\\python39\\site-packages (2.0.2)\n",
      "Requirement already satisfied: python-dateutil>=2.8.2 in c:\\programdata\\anaconda3\\lib\\site-packages (from pandas) (2.8.2)\n",
      "Requirement already satisfied: tzdata>=2022.1 in c:\\users\\khadi\\appdata\\roaming\\python\\python39\\site-packages (from pandas) (2023.3)\n",
      "Requirement already satisfied: numpy>=1.20.3 in c:\\users\\khadi\\appdata\\roaming\\python\\python39\\site-packages (from pandas) (1.23.5)\n",
      "Requirement already satisfied: pytz>=2020.1 in c:\\users\\khadi\\appdata\\roaming\\python\\python39\\site-packages (from pandas) (2023.3)\n",
      "Requirement already satisfied: six>=1.5 in c:\\programdata\\anaconda3\\lib\\site-packages (from python-dateutil>=2.8.2->pandas) (1.16.0)\n"
     ]
    }
   ],
   "source": [
    "!pip install opencv-python\n",
    "!pip install pytesseract\n",
    "!pip install pandas\n"
   ]
  },
  {
   "cell_type": "code",
   "execution_count": 2,
   "id": "9eeaf0e6",
   "metadata": {},
   "outputs": [
    {
     "name": "stdout",
     "output_type": "stream",
     "text": [
      "Defaulting to user installation because normal site-packages is not writeable\n",
      "Requirement already satisfied: tesseract in c:\\users\\khadi\\appdata\\roaming\\python\\python39\\site-packages (0.1.3)\n"
     ]
    }
   ],
   "source": [
    "!pip install tesseract"
   ]
  },
  {
   "cell_type": "code",
   "execution_count": 81,
   "id": "a2e36722",
   "metadata": {},
   "outputs": [],
   "source": [
    "import cv2\n",
    "import pytesseract\n",
    "import pandas as pd\n",
    "import os\n",
    "import matplotlib.pyplot as plt "
   ]
  },
  {
   "cell_type": "code",
   "execution_count": 82,
   "id": "cfb09604",
   "metadata": {},
   "outputs": [],
   "source": [
    "pytesseract.pytesseract.tesseract_cmd = r\"C:\\\\Users\\Khadi\\\\OneDrive\\\\computervision\\\\tesseract.exe\""
   ]
  },
  {
   "cell_type": "code",
   "execution_count": 83,
   "id": "bc145010",
   "metadata": {},
   "outputs": [],
   "source": [
    "img=cv2.imread(r'Image.jpg')"
   ]
  },
  {
   "cell_type": "code",
   "execution_count": 84,
   "id": "757ff194",
   "metadata": {},
   "outputs": [],
   "source": [
    "cv2.imshow(\"window\", img)\n",
    "cv2.waitKey(0)\n",
    "cv2.destroyAllWindows()"
   ]
  },
  {
   "cell_type": "code",
   "execution_count": 85,
   "id": "015d44bf",
   "metadata": {},
   "outputs": [
    {
     "data": {
      "text/plain": [
       "(360, 600, 3)"
      ]
     },
     "execution_count": 85,
     "metadata": {},
     "output_type": "execute_result"
    }
   ],
   "source": [
    "img.shape"
   ]
  },
  {
   "cell_type": "code",
   "execution_count": 87,
   "id": "767adedb",
   "metadata": {},
   "outputs": [
    {
     "data": {
      "text/plain": [
       "'STUDENT\\n\\nStudies at\\nINTERNATIONAL UNIVERSITY\\n\\nName\\nJOHN DOE\\n\\nBorn\\n08/03/2000\\n\\n \\n\\n012 345 678 9\\n\\x0c'"
      ]
     },
     "execution_count": 87,
     "metadata": {},
     "output_type": "execute_result"
    }
   ],
   "source": [
    "def extract_text_from_image(img):\n",
    "    pytesseract.pytesseract.tesseract_cmd = r\"C:\\\\Users\\Khadi\\\\OneDrive\\\\computervision\\\\tesseract.exe\"\n",
    "    text = pytesseract.image_to_string(img)\n",
    "    return text\n",
    "extract_text_from_image(img)"
   ]
  },
  {
   "cell_type": "code",
   "execution_count": 95,
   "id": "29969634",
   "metadata": {},
   "outputs": [
    {
     "data": {
      "text/plain": [
       "array([[[255, 255, 255],\n",
       "        [255, 255, 255],\n",
       "        [255, 255, 255],\n",
       "        ...,\n",
       "        [255, 255, 255],\n",
       "        [255, 255, 255],\n",
       "        [255, 255, 255]],\n",
       "\n",
       "       [[255, 255, 255],\n",
       "        [255, 255, 255],\n",
       "        [255, 255, 255],\n",
       "        ...,\n",
       "        [255, 255, 255],\n",
       "        [255, 255, 255],\n",
       "        [255, 255, 255]],\n",
       "\n",
       "       [[255, 255, 255],\n",
       "        [255, 255, 255],\n",
       "        [255, 255, 255],\n",
       "        ...,\n",
       "        [255, 255, 255],\n",
       "        [255, 255, 255],\n",
       "        [255, 255, 255]],\n",
       "\n",
       "       ...,\n",
       "\n",
       "       [[255, 255, 255],\n",
       "        [255, 255, 255],\n",
       "        [255, 255, 255],\n",
       "        ...,\n",
       "        [255, 255, 255],\n",
       "        [255, 255, 255],\n",
       "        [255, 255, 255]],\n",
       "\n",
       "       [[255, 255, 255],\n",
       "        [255, 255, 255],\n",
       "        [255, 255, 255],\n",
       "        ...,\n",
       "        [255, 255, 255],\n",
       "        [255, 255, 255],\n",
       "        [255, 255, 255]],\n",
       "\n",
       "       [[255, 255, 255],\n",
       "        [255, 255, 255],\n",
       "        [255, 255, 255],\n",
       "        ...,\n",
       "        [255, 255, 255],\n",
       "        [255, 255, 255],\n",
       "        [255, 255, 255]]], dtype=uint8)"
      ]
     },
     "execution_count": 95,
     "metadata": {},
     "output_type": "execute_result"
    }
   ],
   "source": [
    "def preprocess(image_path):\n",
    "    img = cv2.imread(image_path)\n",
    "    \n",
    "    if img is None:\n",
    "        print(f\"Error loading the image from {image_path}. Please check the path and try again.\")\n",
    "        return None\n",
    "    \n",
    "    img = cv2.cvtColor(img, cv2.COLOR_BGR2RGB)\n",
    "    h = img.shape[0]\n",
    "    w = img.shape[1]\n",
    "    resized = cv2.resize(img, (w*5, h*5), interpolation=cv2.INTER_LINEAR)\n",
    "    return resized\n",
    "preprocess('Image.jpg')"
   ]
  },
  {
   "cell_type": "code",
   "execution_count": 93,
   "id": "0dc2422b",
   "metadata": {},
   "outputs": [
    {
     "data": {
      "text/html": [
       "<div>\n",
       "<style scoped>\n",
       "    .dataframe tbody tr th:only-of-type {\n",
       "        vertical-align: middle;\n",
       "    }\n",
       "\n",
       "    .dataframe tbody tr th {\n",
       "        vertical-align: top;\n",
       "    }\n",
       "\n",
       "    .dataframe thead th {\n",
       "        text-align: right;\n",
       "    }\n",
       "</style>\n",
       "<table border=\"1\" class=\"dataframe\">\n",
       "  <thead>\n",
       "    <tr style=\"text-align: right;\">\n",
       "      <th></th>\n",
       "      <th>Text</th>\n",
       "    </tr>\n",
       "  </thead>\n",
       "  <tbody>\n",
       "    <tr>\n",
       "      <th>0</th>\n",
       "      <td>STUDENT</td>\n",
       "    </tr>\n",
       "    <tr>\n",
       "      <th>1</th>\n",
       "      <td></td>\n",
       "    </tr>\n",
       "    <tr>\n",
       "      <th>2</th>\n",
       "      <td>Studies at</td>\n",
       "    </tr>\n",
       "    <tr>\n",
       "      <th>3</th>\n",
       "      <td>INTERNATIONAL UNIVERSITY</td>\n",
       "    </tr>\n",
       "    <tr>\n",
       "      <th>4</th>\n",
       "      <td></td>\n",
       "    </tr>\n",
       "    <tr>\n",
       "      <th>5</th>\n",
       "      <td>Name</td>\n",
       "    </tr>\n",
       "    <tr>\n",
       "      <th>6</th>\n",
       "      <td>JOHN DOE</td>\n",
       "    </tr>\n",
       "    <tr>\n",
       "      <th>7</th>\n",
       "      <td></td>\n",
       "    </tr>\n",
       "    <tr>\n",
       "      <th>8</th>\n",
       "      <td>Born</td>\n",
       "    </tr>\n",
       "    <tr>\n",
       "      <th>9</th>\n",
       "      <td></td>\n",
       "    </tr>\n",
       "    <tr>\n",
       "      <th>10</th>\n",
       "      <td>08/03/2000</td>\n",
       "    </tr>\n",
       "    <tr>\n",
       "      <th>11</th>\n",
       "      <td></td>\n",
       "    </tr>\n",
       "    <tr>\n",
       "      <th>12</th>\n",
       "      <td></td>\n",
       "    </tr>\n",
       "    <tr>\n",
       "      <th>13</th>\n",
       "      <td></td>\n",
       "    </tr>\n",
       "    <tr>\n",
       "      <th>14</th>\n",
       "      <td>012 345 678 9</td>\n",
       "    </tr>\n",
       "    <tr>\n",
       "      <th>15</th>\n",
       "      <td></td>\n",
       "    </tr>\n",
       "  </tbody>\n",
       "</table>\n",
       "</div>"
      ],
      "text/plain": [
       "                        Text\n",
       "0                    STUDENT\n",
       "1                           \n",
       "2                 Studies at\n",
       "3   INTERNATIONAL UNIVERSITY\n",
       "4                           \n",
       "5                       Name\n",
       "6                   JOHN DOE\n",
       "7                           \n",
       "8                       Born\n",
       "9                           \n",
       "10                08/03/2000\n",
       "11                          \n",
       "12                          \n",
       "13                          \n",
       "14             012 345 678 9\n",
       "15                         "
      ]
     },
     "execution_count": 93,
     "metadata": {},
     "output_type": "execute_result"
    }
   ],
   "source": [
    "def get_df(image_path):\n",
    "    if not os.path.exists(image_path):\n",
    "        print(f\"The file {image_path} does not exist.\")\n",
    "        return\n",
    "\n",
    "    img = preprocess(image_path)\n",
    "    if img is None:\n",
    "        print(f\"The file {image_path} could not be read.\")\n",
    "        return\n",
    "\n",
    "    text = extract_text_from_image(img)\n",
    "    lines = text.split('\\n')\n",
    "\n",
    "    # Create DataFrame with lines as rows\n",
    "    df = pd.DataFrame(lines, columns=['Text'])\n",
    "    return df\n",
    "get_df('Image.jpg')"
   ]
  },
  {
   "cell_type": "code",
   "execution_count": 98,
   "id": "d0de23ec",
   "metadata": {},
   "outputs": [
    {
     "name": "stdout",
     "output_type": "stream",
     "text": [
      "Please enter the path of your image file: Image.jpg\n",
      "\n",
      "Extracted Text:\n",
      "STUDENT\n",
      "\n",
      "Studies at\n",
      "INTERNATIONAL UNIVERSITY\n",
      "\n",
      "Name\n",
      "JOHN DOE\n",
      "\n",
      "Born\n",
      "\n",
      "08/03/2000\n",
      "\n",
      " \n",
      "\n",
      "012 345 678 9\n",
      "\f",
      "\n",
      "\n",
      "Extracted Data in Table Format:\n",
      "                        Text\n",
      "0                    STUDENT\n",
      "1                           \n",
      "2                 Studies at\n",
      "3   INTERNATIONAL UNIVERSITY\n",
      "4                           \n",
      "5                       Name\n",
      "6                   JOHN DOE\n",
      "7                           \n",
      "8                       Born\n",
      "9                           \n",
      "10                08/03/2000\n",
      "11                          \n",
      "12                          \n",
      "13                          \n",
      "14             012 345 678 9\n",
      "15                         \f",
      "\n"
     ]
    }
   ],
   "source": [
    "def main():\n",
    "    image_path = input(\"Please enter the path of your image file: \")\n",
    "\n",
    "    # Extract text from image\n",
    "    text = extract_text_from_image(preprocess(image_path))\n",
    "    print(\"\\nExtracted Text:\")\n",
    "    print(text)\n",
    "\n",
    "    # Get DataFrame\n",
    "    df = get_df(image_path)\n",
    "    if df is not None:\n",
    "        print(\"\\nExtracted Data in Table Format:\")\n",
    "        \n",
    "        print(df)\n",
    "\n",
    "if __name__ == \"__main__\":\n",
    "    main()\n"
   ]
  },
  {
   "cell_type": "code",
   "execution_count": null,
   "id": "c225240e",
   "metadata": {},
   "outputs": [],
   "source": []
  }
 ],
 "metadata": {
  "kernelspec": {
   "display_name": "Python 3 (ipykernel)",
   "language": "python",
   "name": "python3"
  },
  "language_info": {
   "codemirror_mode": {
    "name": "ipython",
    "version": 3
   },
   "file_extension": ".py",
   "mimetype": "text/x-python",
   "name": "python",
   "nbconvert_exporter": "python",
   "pygments_lexer": "ipython3",
   "version": "3.9.13"
  }
 },
 "nbformat": 4,
 "nbformat_minor": 5
}
